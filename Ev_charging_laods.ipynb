{
  "nbformat": 4,
  "nbformat_minor": 0,
  "metadata": {
    "colab": {
      "provenance": [],
      "authorship_tag": "ABX9TyOYG8ogu7fSgLkc0fmVDuH6",
      "include_colab_link": true
    },
    "kernelspec": {
      "name": "python3",
      "display_name": "Python 3"
    },
    "language_info": {
      "name": "python"
    }
  },
  "cells": [
    {
      "cell_type": "markdown",
      "metadata": {
        "id": "view-in-github",
        "colab_type": "text"
      },
      "source": [
        "<a href=\"https://colab.research.google.com/github/adilamin89/Lithium_Battery_EIS_Classification_and_Regression_2024/blob/main/Ev_charging_laods.ipynb\" target=\"_parent\"><img src=\"https://colab.research.google.com/assets/colab-badge.svg\" alt=\"Open In Colab\"/></a>"
      ]
    },
    {
      "cell_type": "code",
      "execution_count": null,
      "metadata": {
        "id": "y-4Gtztf8vJZ"
      },
      "outputs": [],
      "source": [
        "## EV load prediciton\n",
        "\n",
        "##Comparison of linear regression and nueral\n"
      ]
    },
    {
      "cell_type": "markdown",
      "source": [],
      "metadata": {
        "id": "dIyAqIyH95EC"
      }
    },
    {
      "cell_type": "code",
      "source": [
        "# Setup - import basic data libraries\n",
        "import numpy as np\n",
        "import pandas as pd\n",
        "\n",
        "ev_charging_reports = pd.read_csv(\"datasets/EV charging reports.csv\")\n",
        "ev_charging_reports.head()\n",
        "\n",
        "traffic_reports = pd.read_csv(\"datasets/Local traffic distribution.csv\")\n",
        "traffic_reports.head()\n",
        "\n",
        "traffic_reports = pd.read_csv(\"datasets/Local traffic distribution.csv\")\n",
        "traffic_reports.head()\n",
        "\n",
        "## Merging databases\n",
        "\n",
        "ev_charging_traffic = ev_charging_reports.merge(traffic_reports,\n",
        "                                left_on='Start_plugin_hour',\n",
        "                                right_on='Date_from')\n",
        "\n",
        "ev_charging_traffic.head()\n",
        "ev_charging_traffic.info()\n",
        "\n",
        "# Picking columns for training\n",
        "drop_columns = ['session_ID', 'Garage_ID', 'User_ID',\n",
        "                'Shared_ID',\n",
        "                'Plugin_category','Duration_category',\n",
        "                'Start_plugin', 'Start_plugin_hour', 'End_plugout', 'End_plugout_hour',\n",
        "                'Date_from', 'Date_to']\n",
        "\n",
        "ev_charging_traffic = ev_charging_traffic.drop(columns=drop_columns, axis=1)\n",
        "ev_charging_traffic.head()\n",
        "\n",
        "#Cleaning and preprocessing\n",
        "for column in ev_charging_traffic.columns:\n",
        "    if ev_charging_traffic[column].dtype == 'object':\n",
        "        ev_charging_traffic[column] = ev_charging_traffic[column].str.replace(',', '.')\n",
        "\n",
        "ev_charging_traffic.head()\n",
        "\n",
        "for column in ev_charging_traffic.columns:\n",
        "    ev_charging_traffic[column] = ev_charging_traffic[column].astype(float)\n",
        "\n",
        "ev_charging_traffic.head()\n",
        "\n",
        "# Test Train Split\n",
        "\n",
        "numerical_features = ev_charging_traffic.drop(['El_kWh'], axis=1).columns\n",
        "X = ev_charging_traffic[numerical_features]\n",
        "\n",
        "y = ev_charging_traffic['El_kWh']\n",
        "\n",
        "from sklearn.model_selection import train_test_split\n",
        "X_train, X_test, y_train, y_test = train_test_split(X, y,\n",
        "                                                    train_size=0.80,\n",
        "                                                    test_size=0.20,\n",
        "                                                    random_state=2)\n",
        "\n",
        "print(\"Training size:\", X_train.shape)\n",
        "print(\"Testing size:\", X_test.shape)\n"
      ],
      "metadata": {
        "collapsed": true,
        "id": "c1RrfYya-A2F"
      },
      "execution_count": null,
      "outputs": []
    },
    {
      "cell_type": "code",
      "source": [
        "## Baseline Linear Regression\n",
        "\n",
        "from sklearn.linear_model import LinearRegression\n",
        "\n",
        "linear_model = LinearRegression()\n",
        "linear_model.fit(X_train, y_train)\n",
        "\n",
        "from sklearn.metrics import mean_squared_error\n",
        "\n",
        "linear_test_predictions = linear_model.predict(X_test)\n",
        "test_mse = mean_squared_error(y_test, linear_test_predictions)\n",
        "print(\"Linear Regression - Test Set MSE:\", test_mse)"
      ],
      "metadata": {
        "id": "zy7dphxD-_8J"
      },
      "execution_count": null,
      "outputs": []
    },
    {
      "cell_type": "code",
      "source": [
        "## Neural Net\n",
        "\n",
        "import torch\n",
        "from torch import nn\n",
        "from torch import optim\n",
        "\n",
        "# Convert training set\n",
        "X_train_tensor = torch.tensor(X_train.values, dtype=torch.float)\n",
        "y_train_tensor = torch.tensor(y_train.values, dtype=torch.float).view(-1,1)\n",
        "\n",
        "# Convert testing set\n",
        "X_test_tensor = torch.tensor(X_test.values, dtype=torch.float)\n",
        "y_test_tensor = torch.tensor(y_test.values, dtype=torch.float).view(-1,1)\n",
        "\n",
        "##Create model Architechture\n",
        "torch.manual_seed(42)\n",
        "\n",
        "model = nn.Sequential(\n",
        "    nn.Linear(26, 56),\n",
        "    nn.ReLU(),\n",
        "    nn.Linear(56, 26),\n",
        "    nn.ReLU(),\n",
        "    nn.Linear(26, 1)\n",
        ")\n",
        "\n",
        "\n",
        "loss = nn.MSELoss()\n",
        "optimizer = optim.Adam(model.parameters(), lr=0.0007)\n",
        "\n",
        "##Training\n",
        "num_epochs = 3000 # number of training iterations\n",
        "for epoch in range(num_epochs):\n",
        "    outputs = model(X_train_tensor) # forward pass\n",
        "    mse = loss(outputs, y_train_tensor) # calculate the loss\n",
        "    mse.backward() # backward pass\n",
        "    optimizer.step() # update the weights and biases\n",
        "    optimizer.zero_grad() # reset the gradients to zero\n",
        "\n",
        "    # keep track of the loss during training\n",
        "    if (epoch + 1) % 500 == 0:\n",
        "        print(f'Epoch [{epoch + 1}/{num_epochs}], MSE Loss: {mse.item()}')\n",
        "\n",
        "## Evaluation on test\n",
        "model.eval() # set the model to evaluation mode\n",
        "with torch.no_grad(): # disable gradient calculations\n",
        "    predictions = model(X_test_tensor) # generate apartment rent predictions\n",
        "    test_loss = loss(predictions, y_test_tensor) # calculate testing set MSE loss\n",
        "\n",
        "print('Neural Network - Test Set MSE:', test_loss.item()) # print testing set MSE"
      ],
      "metadata": {
        "id": "UFkBw4Rp_JjR"
      },
      "execution_count": null,
      "outputs": []
    },
    {
      "cell_type": "markdown",
      "source": [
        "# New Section"
      ],
      "metadata": {
        "id": "Ezg2BNIYAHtN"
      }
    }
  ]
}